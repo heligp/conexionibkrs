{
 "cells": [
  {
   "cell_type": "markdown",
   "metadata": {},
   "source": [
    "# **Clase sobre Automatización de Trading con IBKR API**\n",
    "Este notebook te guiará paso a paso a través del código para automatizar órdenes de trading en IBKR (Interactive Brokers) usando Python. Exploraremos cómo conectarnos a la API, manejar datos en tiempo real, crear órdenes de mercado, gestionar las órdenes activas, y más.\n",
    "\n",
    "## **1. Clase IBKRConnection**\n",
    "La clase `IBKRConnection` extiende `EClient` y `EWrapper` para establecer la conexión con la API de IBKR y manejar la comunicación.\n",
    "\n",
    "### Atributos:\n",
    "- **`data_handlers`**: Un diccionario que mapea tickers a instancias de `DataHandler`, las cuales gestionan la información del mercado.\n",
    "- **`order_id_counter`**: Contador para generar identificadores únicos para las órdenes.\n",
    "- **`active_orders`**: Almacena el estado de las órdenes activas por ticker.\n",
    "- **`executed_price`**: Precio de la última ejecución de una orden.\n",
    "- **`current_contract`**: Contrato actual para el que se envían las órdenes.\n",
    "- **`pending_orders`**: Almacena información sobre órdenes pendientes.\n",
    "- **`order_map`**: Mapeo de ticker a `orderId`.\n",
    "- **`brackets_pendientes`**: Estado para rastrear órdenes de brackets pendientes.\n",
    "- **`parentIds`**: Lista que almacena los IDs de las órdenes padre para rastreo.\n",
    "\n",
    "### Métodos Principales:\n",
    "- **`tickPrice`**: Maneja actualizaciones de precios en tiempo real.\n",
    "- **`tickSize`**: Maneja actualizaciones del tamaño del tick.\n",
    "- **`cancelar_ordenes_pendientes`**: Cancela todas las órdenes activas al inicio.\n",
    "- **`cancelar_orden`**: Cancela una orden activa específica.\n",
    "- **`enviar_orden`**: Envía una nueva orden de trading.\n",
    "- **`nextValidId`**: Actualiza el siguiente ID válido para las órdenes."
   ]
  },
  {
   "cell_type": "code",
   "execution_count": 1,
   "metadata": {},
   "outputs": [
    {
     "ename": "NameError",
     "evalue": "name 'EWrapper' is not defined",
     "output_type": "error",
     "traceback": [
      "\u001b[1;31m---------------------------------------------------------------------------\u001b[0m",
      "\u001b[1;31mNameError\u001b[0m                                 Traceback (most recent call last)",
      "Cell \u001b[1;32mIn[1], line 1\u001b[0m\n\u001b[1;32m----> 1\u001b[0m \u001b[38;5;28;01mclass\u001b[39;00m \u001b[38;5;21;01mIBKRConnection\u001b[39;00m(\u001b[43mEWrapper\u001b[49m, EClient):\n\u001b[0;32m      2\u001b[0m     \u001b[38;5;28;01mdef\u001b[39;00m \u001b[38;5;21m__init__\u001b[39m(\u001b[38;5;28mself\u001b[39m, data_handlers):\n\u001b[0;32m      3\u001b[0m         EClient\u001b[38;5;241m.\u001b[39m\u001b[38;5;21m__init__\u001b[39m(\u001b[38;5;28mself\u001b[39m, \u001b[38;5;28mself\u001b[39m)\n",
      "\u001b[1;31mNameError\u001b[0m: name 'EWrapper' is not defined"
     ]
    }
   ],
   "source": [
    "class IBKRConnection(EWrapper, EClient):\n",
    "    def __init__(self, data_handlers):\n",
    "        EClient.__init__(self, self)"
   ]
  },
  {
   "cell_type": "code",
   "execution_count": null,
   "metadata": {},
   "outputs": [],
   "source": [
    "    def tickPrice(self, reqId: TickerId, tickType: TickType, price: float, attrib: TickAttrib):\n",
    "        if tickType == 4:  # Si es el último precio\n",
    "            if reqId in self.data_handlers:\n",
    "                self.data_handlers[reqId].add_tick(price)  # Añade el precio al manejador de datos\n",
    "                self.data_handlers[reqId].last_tick = price  # Guarda el último precio\n",
    "\n",
    "    def tickSize(self, reqId: TickerId, tickType: TickType, size: Decimal):\n",
    "        if tickType == 8:  # Si es el volumen\n",
    "            if reqId in self.data_handlers:\n",
    "                if self.counter_vol == 0:\n",
    "                    self.vol_ref = size  # Guarda la referencia de volumen\n",
    "                else:\n",
    "                    self.data_handlers[reqId].add_volume(size - self.vol_ref)  # Añade la diferencia de volumen\n",
    "                self.vol_ref = size  # Actualiza la referencia\n",
    "                self.counter_vol += 1  # Incrementa el contador de volumen\n",
    "                print('tick')  # Imprime cuando recibe un tick\n"
   ]
  },
  {
   "cell_type": "code",
   "execution_count": null,
   "metadata": {},
   "outputs": [],
   "source": [
    "    def cancelar_ordenes_pendientes(self):\n",
    "        print(\"Cancelando todas las órdenes activas al iniciar.\")\n",
    "        oc = OrderCancel()  # Crea un objeto de cancelación de órdenes\n",
    "        self.reqGlobalCancel(oc)  # Cancela todas las órdenes activas en la cuenta\n",
    "        self.brackets_pendientes = {}  # Restablece el estado de brackets pendientes\n",
    "\n",
    "    def enviar_orden(self, stock, cantidad, direccion, dif):\n",
    "        ticker = stock['ticker']\n",
    "        oc = OrderCancel()  # Crea un objeto de cancelación\n",
    "\n",
    "        # Verifica si ya hay órdenes pendientes\n",
    "        if ticker in self.brackets_pendientes and self.brackets_pendientes[ticker]:\n",
    "            print(f\"No se puede enviar una nueva orden para {ticker}: hay órdenes de bracket pendientes.\")\n",
    "            return\n",
    "\n",
    "        reqId = [key for key, val in self.data_handlers.items() if val.ticker['ticker'] == stock['ticker']][0]\n",
    "        ultimo_tick = self.data_handlers[reqId].last_tick  # Último precio del ticker\n",
    "\n",
    "        contrato = crear_contrato(stock)\n",
    "        self.current_contract = contrato\n",
    "        order_id = self.nextOrderId()\n",
    "        ordenes = create_orden_market_con_bracket(order_id, direccion, cantidad, dif, ultimo_tick)  # Crea la orden\n",
    "\n",
    "        # Envía las órdenes\n",
    "        for orden in ordenes:\n",
    "            self.placeOrder(orden.orderId, contrato, orden)\n",
    "            self.nextOrderId()  # Obtiene el siguiente OrderId\n",
    "            print(f\"Orden enviada: {direccion} {cantidad} acciones de {ticker}\")\n"
   ]
  },
  {
   "cell_type": "code",
   "execution_count": null,
   "metadata": {},
   "outputs": [],
   "source": [
    "    def orderStatus(self, orderId, status, filled, remaining, avgFillPrice, permId, parentId, lastFillPrice, clientId, whyHeld, mktCapPrice):\n",
    "        print(f\"Estado de la orden ID {orderId}: {status}, llenada: {filled}, restante: {remaining}\")\n",
    "\n",
    "        if status in ['Cancelled', 'Inactive']:  # Si la orden fue cancelada\n",
    "            return\n",
    "\n",
    "        if status == 'Filled' and remaining <= 0.00000001:  # Si la orden fue completamente llenada\n",
    "            if orderId not in self.parentIds:\n",
    "                if parentId == 0:\n",
    "                    self.parentIds.append(orderId)\n",
    "                    self.brackets_pendientes[self.current_contract.symbol] = True\n",
    "                else:\n",
    "                    self.brackets_pendientes[self.current_contract.symbol] = False  # Marca el bracket como completado\n"
   ]
  },
  {
   "cell_type": "code",
   "execution_count": null,
   "metadata": {},
   "outputs": [],
   "source": [
    "    def nextValidId(self, orderId: int):\n",
    "        self.order_id_counter = orderId  # Actualiza el contador de IDs\n",
    "        print(f\"Siguiente OrderId válido: {orderId}\")\n",
    "\n",
    "    def nextOrderId(self):\n",
    "        current_id = self.order_id_counter  # Obtiene el ID actual\n",
    "        self.order_id_counter += 1  # Incrementa el ID para la siguiente orden\n",
    "        return current_id\n"
   ]
  },
  {
   "cell_type": "markdown",
   "metadata": {},
   "source": [
    "## **2. Clase DataHandler**\n",
    "La clase `DataHandler` se encarga de gestionar los datos de precios y volúmenes para cada ticker.\n",
    "\n",
    "### Atributos:\n",
    "- **`ticker`**: Información sobre el ticker.\n",
    "- **`ticks`**: Lista de precios en tiempo real recibidos.\n",
    "- **`volumen_acumulado`**: Volumen total acumulado desde la última barra.\n",
    "- **`barras`**: Lista de barras OHLC (Open, High, Low, Close) generadas.\n",
    "- **`threshold_bar`**: Umbral de volumen para generar nuevas barras.\n",
    "- **`threshold_features`**: Umbral para calcular características y hacer predicciones.\n",
    "- **`connection`**: Referencia a la conexión IBKR.\n",
    "- **`model`**: Modelo de predicción cargado.\n",
    "- **`scaler`**: Escalador para normalizar los datos de entrada.\n",
    "- **`last_tick`**: Último precio recibido.\n",
    "\n",
    "### Métodos Principales:\n",
    "- **`add_tick`**: Agrega un nuevo precio a la lista de ticks y verifica si se puede generar una nueva barra.\n",
    "- **`add_volume`**: Agrega volumen y verifica si se puede generar una nueva barra.\n",
    "- **`check_if_bar_can_be_generated`**: Comprueba si se puede generar una nueva barra OHLC.\n",
    "- **`generar_barra_ohlc`**: Crea una nueva barra OHLC y la añade a la lista.\n",
    "- **`crear_features_y_predecir`**: Calcula características basadas en las barras y realiza predicciones.\n",
    "- **`evaluar_y_enviar_orden`**: Evalúa la predicción y envía una orden si es necesario."
   ]
  },
  {
   "cell_type": "code",
   "execution_count": null,
   "metadata": {},
   "outputs": [],
   "source": [
    "    def add_tick(self, price):\n",
    "        self.ticks.append(price) \n",
    "        self.check_if_bar_can_be_generated()  \n",
    "  \n",
    "    def add_volume(self, volume):\n",
    "        self.volumen_acumulado += volume \n",
    "        self.check_if_bar_can_be_generated()  \n"
   ]
  },
  {
   "cell_type": "code",
   "execution_count": null,
   "metadata": {},
   "outputs": [],
   "source": [
    "   def check_if_bar_can_be_generated(self):\n",
    "        if self.volumen_acumulado >= self.threshold_bar:  \n",
    "            self.generar_barra_ohlc() \n",
    "\n",
    "    \n",
    "    def generar_barra_ohlc(self):\n",
    "        if self.ticks:  # Solo genera la barra si hay precios en la lista de ticks\n",
    "            # Calcula los precios OHLC (Open, High, Low, Close)\n",
    "            open_price = self.ticks[0]  # Precio de apertura (primer tick)\n",
    "            high_price = max(self.ticks)  # Precio más alto\n",
    "            low_price = min(self.ticks)  # Precio más bajo\n",
    "            close_price = self.ticks[-1]  # Precio de cierre (último tick)\n",
    "\n",
    "            # Crea una barra OHLC con el volumen acumulado\n",
    "            barra = {\n",
    "                'open': open_price,\n",
    "                'high': high_price,\n",
    "                'low': low_price,\n",
    "                'close': close_price,\n",
    "                'volume': self.volumen_acumulado\n",
    "            }\n",
    "            self.barras.append(barra)  \n",
    "            self.ticks.clear()  \n",
    "            self.volumen_acumulado = 0\n",
    "\n",
    "            print(f\"Barra generada para {self.ticker['ticker']}: {barra}\")\n",
    "\n",
    "            # Si el número de barras generadas supera el umbral para calcular features, inicia ese proceso\n",
    "            if len(self.barras) > self.threshold_features:\n",
    "                self.crear_features_y_predecir()\n"
   ]
  },
  {
   "cell_type": "code",
   "execution_count": null,
   "metadata": {},
   "outputs": [],
   "source": [
    "    # Método para calcular los features basados en las barras OHLC y hacer predicciones con el modelo\n",
    "    def crear_features_y_predecir(self):\n",
    "        # Selecciona las últimas \"threshold_features\" barras y crea un DataFrame\n",
    "        df_barras = pd.DataFrame(self.barras[-self.threshold_features:])\n",
    "        \n",
    "        # Calcula los features a partir de las barras\n",
    "        features = calcular_features(df_barras, self.threshold_features)  \n",
    "        df_barras = pd.DataFrame(features).iloc[:,-1]  \n",
    "\n",
    "        # Escala los features usando el escalador antes de pasarlos al modelo de predicción\n",
    "        features_scaled = self.scaler.transform([df_barras])  \n",
    "\n",
    "        # Usa el modelo de predicción para obtener una predicción basada en los features escalados\n",
    "        prediccion = self.model.predict(features_scaled)\n",
    "\n",
    "        print(f\"Features creados para {self.ticker['ticker']}: {features_scaled}\")\n",
    "        print(\"PREDICCION:\", prediccion)\n",
    "\n",
    "        # Variables de ejemplo para cantidad de la orden y diferencial de precio\n",
    "        cantidad = 1000  \n",
    "        diferencial = 10 \n",
    "\n",
    "        # Evalúa la predicción y decide si enviar una orden de compra o venta\n",
    "        self.evaluar_y_enviar_orden(prediccion, cantidad, diferencial)\n",
    "\n",
    "    # Método para evaluar la predicción y enviar una orden basada en la misma\n",
    "    def evaluar_y_enviar_orden(self, prediccion, cantidad, diferencial):\n",
    "        # Si la predicción es 1, envía una orden de compra\n",
    "        if prediccion == 1:\n",
    "            print(f\"Enviando orden de compra para {self.ticker['ticker']}\")\n",
    "            self.connection.enviar_mensaje(self.ticker, cantidad, 'BUY', diferencial)  \n",
    "        # Si la predicción es -1, envía una orden de venta\n",
    "        elif prediccion == -1:\n",
    "            print(f\"Enviando orden de venta para {self.ticker['ticker']}\")\n",
    "            self.connection.enviar_mensaje(self.ticker, cantidad, 'SELL', diferencial) "
   ]
  },
  {
   "cell_type": "markdown",
   "metadata": {},
   "source": [
    "## **3. Creación de Órdenes**\n",
    "Se utilizan funciones para crear diferentes tipos de órdenes, incluyendo órdenes de mercado y órdenes de bracket.\n",
    "\n",
    "### Funciones Principales:\n",
    "- **`create_orden_market_con_bracket`**: Crea una orden de mercado con un bracket de ganancias y pérdidas.\n",
    "\n",
    "### Estructura de Órdenes:\n",
    "- **Órdenes de Mercado**: Se ejecutan al mejor precio disponible en el mercado.\n",
    "- **Órdenes de Bracket**: Combinan una orden de mercado con órdenes limitadas de toma de ganancias y stop loss.\n"
   ]
  },
  {
   "cell_type": "markdown",
   "metadata": {},
   "source": [
    "## **4. Conexión y Gestión de Datos**\n",
    "El flujo principal del programa incluye la conexión a IBKR y la gestión de datos en tiempo real para diferentes tickers.\n",
    "\n",
    "### Pasos:\n",
    "1. **Conexión a la API de IBKR**: Establece la conexión utilizando el cliente de IBKR.\n",
    "2. **Registro de Manejadores de Datos**: Crea instancias de `DataHandler` para cada ticker.\n",
    "3. **Solicitar Datos de Mercado**: Envía solicitudes para obtener datos en tiempo real de los tickers registrados.\n",
    "4. **Gestión de Órdenes**: Envía, cancela y gestiona el estado de las órdenes activas.\n"
   ]
  },
  {
   "cell_type": "markdown",
   "metadata": {},
   "source": [
    "## **5. Ejecución del Código**\n",
    "El código se ejecuta en un hilo separado para mantener la conexión activa y procesar datos en tiempo real.\n",
    "\n",
    "### Componentes Clave:\n",
    "- **Hilo de API**: Se utiliza un hilo separado para ejecutar el bucle de la API y manejar eventos de la API sin bloquear el hilo principal.\n",
    "- **Manejo de Excepciones**: Se implementan excepciones para manejar desconexiones y errores en la conexión.\n"
   ]
  },
  {
   "cell_type": "code",
   "execution_count": null,
   "metadata": {},
   "outputs": [],
   "source": [
    "if __name__ == \"__main__\":\n",
    "    # Definir los manejadores de datos para cada ticker\n",
    "    data_handlers = {i: DataHandler(symbol, threshold_bar, threshold_features, None, models[0], scalers[0]) for i, symbol in symbols.items()}    \n",
    "    \n",
    "    # Iniciar la conexión a IBKR\n",
    "    app = IBKRConnection(data_handlers)\n",
    "    app.connect(\"127.0.0.1\", 7497, 0)\n",
    "    time.sleep(1)\n",
    "\n",
    "    # Iniciar el loop de la API en un hilo separado\n",
    "    api_thread = threading.Thread(target=app.run, daemon=True)\n",
    "    api_thread.start()\n",
    "\n",
    "    # Solicitar datos de mercado para cada ticker\n",
    "    for reqId, ticker in enumerate(list(symbols.values())):\n",
    "        contrato = crear_contrato(ticker)\n",
    "        app.reqMktData(reqId, contrato, \"\", False,\n"
   ]
  },
  {
   "cell_type": "markdown",
   "metadata": {},
   "source": [
    "## **6. Otros**\n",
    "\n",
    "### Componentes Clave:\n",
    "- **Creación de contrato**: Es el \"activo\" básico con el que se solicita y recibe información\n",
    "- **Creación de features**: Para fines prácticos usaremos features técnicos"
   ]
  },
  {
   "cell_type": "code",
   "execution_count": null,
   "metadata": {},
   "outputs": [],
   "source": [
    "def create_orden_market(orderid, direction, quantity:\n",
    "\n",
    "    orden_market = Order()  # Instancia una nueva orden\n",
    "    orden_market.orderId = orderid \n",
    "    orden_market.action = direction\n",
    "    orden_market.orderType = \"MKT\"\n",
    "    orden_market.totalQuantity = quantity\n",
    "    orden_market.tif = \"IOC\"  \n",
    "    orden_market.transmit = True\n",
    "\n",
    "    return orden_market"
   ]
  }
 ],
 "metadata": {
  "kernelspec": {
   "display_name": "conexionibkr",
   "language": "python",
   "name": "python3"
  },
  "language_info": {
   "codemirror_mode": {
    "name": "ipython",
    "version": 3
   },
   "file_extension": ".py",
   "mimetype": "text/x-python",
   "name": "python",
   "nbconvert_exporter": "python",
   "pygments_lexer": "ipython3",
   "version": "3.10.11"
  }
 },
 "nbformat": 4,
 "nbformat_minor": 2
}
